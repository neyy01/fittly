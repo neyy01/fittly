{
 "cells": [
  {
   "cell_type": "code",
   "execution_count": 8,
   "metadata": {},
   "outputs": [],
   "source": [
    "##Importing the libraries\n",
    "\n",
    "import pandas as pd\n",
    "import seaborn as sns"
   ]
  },
  {
   "cell_type": "code",
   "execution_count": 9,
   "metadata": {},
   "outputs": [
    {
     "data": {
      "text/html": [
       "<div>\n",
       "<style scoped>\n",
       "    .dataframe tbody tr th:only-of-type {\n",
       "        vertical-align: middle;\n",
       "    }\n",
       "\n",
       "    .dataframe tbody tr th {\n",
       "        vertical-align: top;\n",
       "    }\n",
       "\n",
       "    .dataframe thead th {\n",
       "        text-align: right;\n",
       "    }\n",
       "</style>\n",
       "<table border=\"1\" class=\"dataframe\">\n",
       "  <thead>\n",
       "    <tr style=\"text-align: right;\">\n",
       "      <th></th>\n",
       "      <th>acct_id</th>\n",
       "      <th>FICO</th>\n",
       "    </tr>\n",
       "  </thead>\n",
       "  <tbody>\n",
       "    <tr>\n",
       "      <th>0</th>\n",
       "      <td>1</td>\n",
       "      <td>768</td>\n",
       "    </tr>\n",
       "    <tr>\n",
       "      <th>1</th>\n",
       "      <td>2</td>\n",
       "      <td>850</td>\n",
       "    </tr>\n",
       "    <tr>\n",
       "      <th>2</th>\n",
       "      <td>3</td>\n",
       "      <td>677</td>\n",
       "    </tr>\n",
       "    <tr>\n",
       "      <th>3</th>\n",
       "      <td>4</td>\n",
       "      <td>843</td>\n",
       "    </tr>\n",
       "    <tr>\n",
       "      <th>4</th>\n",
       "      <td>5</td>\n",
       "      <td>796</td>\n",
       "    </tr>\n",
       "  </tbody>\n",
       "</table>\n",
       "</div>"
      ],
      "text/plain": [
       "   acct_id FICO\n",
       "0        1  768\n",
       "1        2  850\n",
       "2        3  677\n",
       "3        4  843\n",
       "4        5  796"
      ]
     },
     "execution_count": 9,
     "metadata": {},
     "output_type": "execute_result"
    }
   ],
   "source": [
    "##Loading the dataset by using pandas\n",
    "\n",
    "df = pd.read_csv('fico.csv')\n",
    "df.head()"
   ]
  },
  {
   "cell_type": "code",
   "execution_count": 10,
   "metadata": {},
   "outputs": [
    {
     "data": {
      "text/plain": [
       "acct_id        0\n",
       "FICO       29615\n",
       "dtype: int64"
      ]
     },
     "execution_count": 10,
     "metadata": {},
     "output_type": "execute_result"
    }
   ],
   "source": [
    "##Checking the sum of null values and found out there are 29615 null values in fico column\n",
    "\n",
    "df.isnull().sum()"
   ]
  },
  {
   "cell_type": "code",
   "execution_count": 11,
   "metadata": {},
   "outputs": [
    {
     "data": {
      "text/html": [
       "<div>\n",
       "<style scoped>\n",
       "    .dataframe tbody tr th:only-of-type {\n",
       "        vertical-align: middle;\n",
       "    }\n",
       "\n",
       "    .dataframe tbody tr th {\n",
       "        vertical-align: top;\n",
       "    }\n",
       "\n",
       "    .dataframe thead th {\n",
       "        text-align: right;\n",
       "    }\n",
       "</style>\n",
       "<table border=\"1\" class=\"dataframe\">\n",
       "  <thead>\n",
       "    <tr style=\"text-align: right;\">\n",
       "      <th></th>\n",
       "      <th>acct_id</th>\n",
       "      <th>FICO</th>\n",
       "    </tr>\n",
       "  </thead>\n",
       "  <tbody>\n",
       "    <tr>\n",
       "      <th>0</th>\n",
       "      <td>1</td>\n",
       "      <td>768</td>\n",
       "    </tr>\n",
       "    <tr>\n",
       "      <th>1</th>\n",
       "      <td>2</td>\n",
       "      <td>850</td>\n",
       "    </tr>\n",
       "    <tr>\n",
       "      <th>2</th>\n",
       "      <td>3</td>\n",
       "      <td>677</td>\n",
       "    </tr>\n",
       "    <tr>\n",
       "      <th>3</th>\n",
       "      <td>4</td>\n",
       "      <td>843</td>\n",
       "    </tr>\n",
       "    <tr>\n",
       "      <th>4</th>\n",
       "      <td>5</td>\n",
       "      <td>796</td>\n",
       "    </tr>\n",
       "  </tbody>\n",
       "</table>\n",
       "</div>"
      ],
      "text/plain": [
       "   acct_id FICO\n",
       "0        1  768\n",
       "1        2  850\n",
       "2        3  677\n",
       "3        4  843\n",
       "4        5  796"
      ]
     },
     "execution_count": 11,
     "metadata": {},
     "output_type": "execute_result"
    }
   ],
   "source": [
    "##Filling the null values by putting \"Missing\"\n",
    "\n",
    "df['FICO'] = df['FICO'].fillna(\"Missing\")\n",
    "df.head()"
   ]
  },
  {
   "cell_type": "code",
   "execution_count": 12,
   "metadata": {},
   "outputs": [
    {
     "data": {
      "text/plain": [
       "array(['768', '850', '677', '843', '796', '669', '805', '838', 'Missing',\n",
       "       '794', '832', '777', '809', '793', '746', '781', '812', '811',\n",
       "       '849', '820', '778', '848', '821', '534', '844', '788', '696',\n",
       "       '829', '740', '786', '802', '782', '816', '806', '828', '729',\n",
       "       '751', '764', '808', '792', '831', '824', '727', '836', '775',\n",
       "       '765', '735', '767', '839', '833', '807', '769', '715', '745',\n",
       "       '803', '799', '847', '672', '823', '776', '797', '724', '845',\n",
       "       '841', '693', '717', '754', '779', '565', '830', 'AA', '743',\n",
       "       '825', '752', '770', '800', '772', '759', '670', '826', '570',\n",
       "       '790', '817', '711', '678', '725', '842', '827', '710', '819',\n",
       "       '700', '822', '623', '771', '705', '627', '835', '742', '655',\n",
       "       '834', '762', '749', '753', '712', '798', '750', '837', '784',\n",
       "       '737', '814', '748', '739', '686', '633', '671', '684', '552',\n",
       "       '783', '756', '734', '703', '719', '720', '687', '801', '697',\n",
       "       '553', '721', '728', '722', '818', '716', '780', '695', '708',\n",
       "       '726', '709', '585', '795', '804', '682', '652', '785', '713',\n",
       "       '744', '732', '675', '815', '761', '699', '813', '787', '789',\n",
       "       '766', '757', '662', '649', '706', '588', '651', '542', '589',\n",
       "       '741', '692', '644', '629', '653', '707', '840', '701', '631',\n",
       "       '731', '665', '648', '667', '654', '611', '513', '773', '642',\n",
       "       '658', '760', '691', '645', '736', '763', '698', '679', '664',\n",
       "       '758', '730', '668', '596', '535', '685', '683', '694', '755',\n",
       "       '614', '564', '714', '791', '680', '747', '595', '704', '621',\n",
       "       '501', '657', '673', '618', '573', '609', '656', '566', '661',\n",
       "       '616', '674', '733', '500', '550', '538', '663', '636', '536',\n",
       "       '676', '688', '723', '689', '638', '690', '615', '540', '578',\n",
       "       '681', '557', '622', '600', '617', '555', '598', '523', '489',\n",
       "       '625', '637', '646', '569', '718', '604', '519', '606', '602',\n",
       "       '647', '624', '660', '605', '639', '632', '634', '575', '503',\n",
       "       '628', '587', '613', '635', '529', '549', '641', '599', '420',\n",
       "       '562', '650', '603', '601', '545', '610', '608', '643', '507',\n",
       "       '620', '567', '493', '592', '619', '612', '524', '607', '526',\n",
       "       '659', '518', '509', '511', '579', '527', '597', '640', '586',\n",
       "       '576', '521', '626', '544', '577', '546', '591', '559', '582',\n",
       "       '583', '531', '581', '584', '514', '502', '547', '541', '574',\n",
       "       '568', '572', '556', '472', '593', '494', '580', '543', '537',\n",
       "       '551', '528', '561', '440', '539', '471', '525', '483', '560',\n",
       "       '554', '487', '468', '563', '516', '512', '530', '491', '571',\n",
       "       '533', '479', '462', '497', '466', '548', '590', '506', '520',\n",
       "       '496', '504', '439', '517', '505', '456', '492', '532', '488',\n",
       "       '508', '475', '474', '485', '495', '510', '481', '499', '482',\n",
       "       '469', '447', '515', '455', '465', '460', '433', '498', 'SSS'],\n",
       "      dtype=object)"
      ]
     },
     "execution_count": 12,
     "metadata": {},
     "output_type": "execute_result"
    }
   ],
   "source": [
    "##Checking the unique values \n",
    "\n",
    "df['FICO'].unique()"
   ]
  },
  {
   "cell_type": "code",
   "execution_count": 13,
   "metadata": {},
   "outputs": [],
   "source": [
    "##Droping the duplicates values \n",
    "\n",
    "df.drop_duplicates(subset =\"FICO\", keep = False, inplace = True)\n",
    "df.drop_duplicates(subset =\"acct_id\", keep = False, inplace = True)"
   ]
  },
  {
   "cell_type": "code",
   "execution_count": 14,
   "metadata": {},
   "outputs": [
    {
     "data": {
      "text/plain": [
       "acct_id    0\n",
       "FICO       0\n",
       "dtype: int64"
      ]
     },
     "execution_count": 14,
     "metadata": {},
     "output_type": "execute_result"
    }
   ],
   "source": [
    "##Checking the null values is there any remaining\n",
    "\n",
    "df.isnull().sum()"
   ]
  },
  {
   "cell_type": "code",
   "execution_count": 15,
   "metadata": {},
   "outputs": [
    {
     "data": {
      "text/plain": [
       "<AxesSubplot:xlabel='FICO', ylabel='Count'>"
      ]
     },
     "execution_count": 15,
     "metadata": {},
     "output_type": "execute_result"
    },
    {
     "data": {
      "image/png": "[encoded data removed]",
      "text/plain": [
       "<Figure size 432x288 with 1 Axes>"
      ]
     },
     "metadata": {
      "needs_background": "light"
     },
     "output_type": "display_data"
    }
   ],
   "source": [
    "\n",
    "sns.histplot(data=df, x=\"FICO\")"
   ]
  }
 ],
 "metadata": {
  "interpreter": {
   "hash": "b0fbbfe407163cf450e3ed59036890bfe4f1ea99ab751a1d9ce2dd4a257802f5"
  },
  "kernelspec": {
   "display_name": "Python 3.10.1 64-bit",
   "language": "python",
   "name": "python3"
  },
  "language_info": {
   "codemirror_mode": {
    "name": "ipython",
    "version": 3
   },
   "file_extension": ".py",
   "mimetype": "text/x-python",
   "name": "python",
   "nbconvert_exporter": "python",
   "pygments_lexer": "ipython3",
   "version": "3.10.1"
  },
  "orig_nbformat": 4
 },
 "nbformat": 4,
 "nbformat_minor": 2
}
